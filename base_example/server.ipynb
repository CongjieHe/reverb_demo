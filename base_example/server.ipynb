{
 "cells": [
  {
   "cell_type": "code",
   "execution_count": null,
   "metadata": {},
   "outputs": [],
   "source": [
    "import reverb"
   ]
  },
  {
   "cell_type": "code",
   "execution_count": null,
   "metadata": {},
   "outputs": [],
   "source": [
    "# create a server with a single table\n",
    "server = reverb.Server(tables=[\n",
    "    reverb.Table(\n",
    "        name='test_table',\n",
    "        sampler=reverb.selectors.Uniform(),\n",
    "        remover=reverb.selectors.Fifo(),\n",
    "        max_size=100,\n",
    "        rate_limiter=reverb.rate_limiters.MinSize(1)),\n",
    "    ],\n",
    "    port=52023\n",
    ")\n",
    "local_client = server.localhost_client()\n",
    "print(local_client.server_info())"
   ]
  }
 ],
 "metadata": {
  "kernelspec": {
   "display_name": "reverb",
   "language": "python",
   "name": "python3"
  },
  "language_info": {
   "name": "python",
   "version": "3.9.15 (main, Nov 24 2022, 14:31:59) \n[GCC 11.2.0]"
  },
  "orig_nbformat": 4,
  "vscode": {
   "interpreter": {
    "hash": "1fff210a7ee1e42c7c71185dae3ab7edba22be4d8a9525ad2b3c737fee12c858"
   }
  }
 },
 "nbformat": 4,
 "nbformat_minor": 2
}
