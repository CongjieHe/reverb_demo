{
 "cells": [
  {
   "cell_type": "code",
   "execution_count": null,
   "metadata": {},
   "outputs": [],
   "source": [
    "import reverb\n",
    "import tensorflow as tf"
   ]
  },
  {
   "cell_type": "code",
   "execution_count": null,
   "metadata": {},
   "outputs": [],
   "source": [
    "# create a server with a single table\n",
    "server = reverb.Server(tables=[\n",
    "    reverb.Table(\n",
    "        name='test_table',\n",
    "        sampler=reverb.selectors.Uniform(),\n",
    "        remover=reverb.selectors.Fifo(),\n",
    "        max_size=100,\n",
    "        rate_limiter=reverb.rate_limiters.MinSize(1)),\n",
    "    ],\n",
    "    port=52023\n",
    ")\n",
    "local_client = server.localhost_client()\n",
    "print(local_client.server_info())"
   ]
  }
 ],
 "metadata": {
  "kernelspec": {
   "display_name": "reverb",
   "language": "python",
   "name": "python3"
  },
  "language_info": {
   "codemirror_mode": {
    "name": "ipython",
    "version": 3
   },
   "file_extension": ".py",
   "mimetype": "text/x-python",
   "name": "python",
   "nbconvert_exporter": "python",
   "pygments_lexer": "ipython3",
   "version": "3.8.15 (default, Nov 24 2022, 15:19:38) \n[GCC 11.2.0]"
  },
  "orig_nbformat": 4,
  "vscode": {
   "interpreter": {
    "hash": "7a417c90a898d5468d9b056d0f84e3295c1d75932a399cbc5cb342ea8ee52e68"
   }
  }
 },
 "nbformat": 4,
 "nbformat_minor": 2
}
