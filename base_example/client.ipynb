{
 "cells": [
  {
   "cell_type": "code",
   "execution_count": 10,
   "metadata": {},
   "outputs": [],
   "source": [
    "import reverb\n",
    "import torch"
   ]
  },
  {
   "cell_type": "code",
   "execution_count": null,
   "metadata": {},
   "outputs": [],
   "source": [
    "# Create a client.\n",
    "server_addr = 'localhost:52023'\n",
    "remote_client = reverb.Client(server_addr)\n",
    "print(remote_client.server_info())"
   ]
  },
  {
   "cell_type": "code",
   "execution_count": null,
   "metadata": {},
   "outputs": [],
   "source": [
    "# Appends three data elements and inserts a single item which references all\n",
    "# of them as {'a': [2, 3, 4], 'b': [12, 13, 14]}.\n",
    "with remote_client.trajectory_writer(num_keep_alive_refs=3) as writer:\n",
    "  writer.append({'a': 2, 'b': 12})\n",
    "  writer.append({'a': 3, 'b': 13})\n",
    "  writer.append({'a': 4, 'b': 14})\n",
    "\n",
    "  # Create an item referencing all the data.\n",
    "  writer.create_item(\n",
    "      table='test_table',\n",
    "      priority=1.0,\n",
    "      trajectory={\n",
    "          'a': writer.history['a'][:],\n",
    "          'b': writer.history['b'][:],\n",
    "      })\n",
    "\n",
    "  # Block until the item has been inserted and confirmed by the server.\n",
    "  writer.flush()"
   ]
  },
  {
   "cell_type": "code",
   "execution_count": null,
   "metadata": {},
   "outputs": [],
   "source": [
    "# client.sample() returns a generator.\n",
    "print(list(remote_client.sample('test_table', num_samples=2)))"
   ]
  }
 ],
 "metadata": {
  "kernelspec": {
   "display_name": "reverb",
   "language": "python",
   "name": "python3"
  },
  "language_info": {
   "codemirror_mode": {
    "name": "ipython",
    "version": 3
   },
   "file_extension": ".py",
   "mimetype": "text/x-python",
   "name": "python",
   "nbconvert_exporter": "python",
   "pygments_lexer": "ipython3",
   "version": "3.8.15 (default, Nov 24 2022, 15:19:38) \n[GCC 11.2.0]"
  },
  "orig_nbformat": 4,
  "vscode": {
   "interpreter": {
    "hash": "7a417c90a898d5468d9b056d0f84e3295c1d75932a399cbc5cb342ea8ee52e68"
   }
  }
 },
 "nbformat": 4,
 "nbformat_minor": 2
}
