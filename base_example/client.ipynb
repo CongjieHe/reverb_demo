{
 "cells": [
  {
   "cell_type": "code",
   "execution_count": null,
   "metadata": {},
   "outputs": [],
   "source": [
    "import reverb"
   ]
  },
  {
   "cell_type": "code",
   "execution_count": null,
   "metadata": {},
   "outputs": [],
   "source": [
    "# Create a client.\n",
    "server_addr = 'komodo02:52023'\n",
    "remote_client = reverb.Client(server_addr)"
   ]
  },
  {
   "cell_type": "code",
   "execution_count": null,
   "metadata": {},
   "outputs": [],
   "source": [
    "# Appends three data elements and inserts a single item which references all\n",
    "# of them as {'a': [2, 3, 4], 'b': [12, 13, 14]}.\n",
    "with remote_client.trajectory_writer(num_keep_alive_refs=3) as writer:\n",
    "  writer.append({'a': 2, 'b': 12})\n",
    "  writer.append({'a': 3, 'b': 13})\n",
    "  writer.append({'a': 4, 'b': 14})\n",
    "\n",
    "  # Create an item referencing all the data.\n",
    "  writer.create_item(\n",
    "      table='test_table',\n",
    "      priority=1.0,\n",
    "      trajectory={\n",
    "          'a': writer.history['a'][:],\n",
    "          'b': writer.history['b'][:],\n",
    "      })\n",
    "\n",
    "  # Block until the item has been inserted and confirmed by the server.\n",
    "  writer.flush()"
   ]
  },
  {
   "cell_type": "code",
   "execution_count": null,
   "metadata": {},
   "outputs": [],
   "source": [
    "# client.sample() returns a generator.\n",
    "print(list(remote_client.sample('test_table', num_samples=2)))"
   ]
  }
 ],
 "metadata": {
  "kernelspec": {
   "display_name": "reverb",
   "language": "python",
   "name": "python3"
  },
  "language_info": {
   "name": "python",
   "version": "3.9.15 (main, Nov 24 2022, 14:31:59) \n[GCC 11.2.0]"
  },
  "orig_nbformat": 4,
  "vscode": {
   "interpreter": {
    "hash": "1fff210a7ee1e42c7c71185dae3ab7edba22be4d8a9525ad2b3c737fee12c858"
   }
  }
 },
 "nbformat": 4,
 "nbformat_minor": 2
}
